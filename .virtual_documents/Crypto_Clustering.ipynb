# Import required libraries and dependencies
import pandas as pd
import hvplot.pandas
import numpy as np
from sklearn.cluster import KMeans
from sklearn.decomposition import PCA
from sklearn.preprocessing import StandardScaler


# Load the data into a Pandas DataFrame
df_market_data = pd.read_csv(
    "Resources/crypto_market_data.csv",
    index_col="coin_id")

# Display sample data
df_market_data.head(10)


# Generate summary statistics
df_market_data.describe()


# Plot your data to see what's in your DataFrame
df_market_data.hvplot.line(
    width=800,
    height=400,
    rot=90
)








# Use the `StandardScaler()` module from scikit-learn to normalize the data from the CSV file
market_data_scaled = StandardScaler().fit_transform(df_market_data[["price_change_percentage_24h", "price_change_percentage_7d", 
                                                                    "price_change_percentage_14d", "price_change_percentage_30d",
                                                                    "price_change_percentage_60d", "price_change_percentage_200d",
                                                                    "price_change_percentage_1y"]])


# Create a DataFrame with the scaled data
df_market_scaled = pd.DataFrame(market_data_scaled, columns=["price_change_percentage_24h", "price_change_percentage_7d", 
                                                                    "price_change_percentage_14d", "price_change_percentage_30d",
                                                                    "price_change_percentage_60d", "price_change_percentage_200d",
                                                                    "price_change_percentage_1y"])

# Copy the crypto names from the original data
df_market_scaled["coin_id"] = df_market_data.index

# Set the coinid column as index
df_market_scaled = df_market_scaled.set_index("coin_id")

# Display sample data
df_market_scaled.head()








# Create a list with the number of k-values from 1 to 11
k = list(range(1, 11))
k


# Create an empty list to store the inertia values
inertia = []

# Create a for loop to compute the inertia with each possible value of k
# Inside the loop:
# 1. Create a KMeans model using the loop counter for the n_clusters
# 2. Fit the model to the data using `df_market_data_scaled`
# 3. Append the model.inertia_ to the inertia list
for i in k:
    k_model = KMeans(n_clusters=i, random_state=0)
    k_model.fit(df_market_scaled)
    inertia.append(k_model.inertia_)


# Create a dictionary with the data to plot the Elbow curve
elbow_data = {"k": k, "inertia": inertia}

# Create a DataFrame with the data to plot the Elbow curve
df_elbow = pd.DataFrame(elbow_data)
df_elbow.head()


# Plot a line chart with all the inertia values computed with 
# the different values of k to visually identify the optimal value for k.
df_elbow.hvplot.line(
    x="k",
    y="inertia",
    title="Elbow Curve",
    xticks=k
)





# Initialize the K-Means model using the best value for k
model = KMeans(n_clusters=4)









# Fit the K-Means model using the scaled data
model.fit(df_market_scaled)


# Predict the clusters to group the cryptocurrencies using the scaled data
k_3 = model.predict(df_market_scaled)

# Print the resulting array of cluster values.
k_3


# Create a copy of the DataFrame
market_prediction_df = df_market_scaled.copy()


# Add a new column to the DataFrame with the predicted clusters
market_prediction_df["hover_cols"] = k_3

# Display sample data
market_prediction_df.head()


# Create a scatter plot using hvPlot by setting 
# `x="price_change_percentage_24h"` and `y="price_change_percentage_7d"`. 
# Color the graph points with the labels found using K-Means and 
# add the crypto name in the `hover_cols` parameter to identify 
# the cryptocurrency represented by each data point.
market_prediction_df.hvplot.scatter(
    x="price_change_percentage_24h", 
    y="price_change_percentage_7d",
    by="hover_cols"
)








# Create a PCA model instance and set `n_components=3`.
pca = PCA(n_components=3)


# Use the PCA model with `fit_transform` to reduce to 
# three principal components.
market_pca = pca.fit_transform(market_prediction_df)

# View the first five rows of the DataFrame. 
market_pca[:5]



# Retrieve the explained variance to determine how much information 
# can be attributed to each principal component.
pca.explained_variance_ratio_


explained_variance_ratios = pca.explained_variance_ratio_
total_explained_variance = np.sum(explained_variance_ratios)

print(f"Total Explained Variance by the first 3 components: {total_explained_variance}")





# Create a new DataFrame with the PCA data.
market_pca_df = pd.DataFrame(
    market_pca,
    columns=["PC1","PC2", "PC3"]
)
  
# Copy the crypto names from the original data
market_pca_df["coin_id"] = df_market_data.index

# Set the coinid column as index
market_pca_df = market_pca_df.set_index("coin_id")

# Display sample data
market_pca_df.head()








# Create a list with the number of k-values from 1 to 11
k2 = list(range(1, 11))


# Create an empty list to store the inertia values
inertia2 = []

# Create a for loop to compute the inertia with each possible value of k
# Inside the loop:
# 1. Create a KMeans model using the loop counter for the n_clusters
# 2. Fit the model to the data using `df_market_data_pca`
# 3. Append the model.inertia_ to the inertia list

for i in k2:
    k2_model = KMeans(n_clusters=i, random_state=1)
    k2_model.fit(market_pca_df)
    inertia2.append(k2_model.inertia_)
    


# Create a dictionary with the data to plot the Elbow curve
elbow_data2 = {"k": k, "inertia": inertia}
df_elbow2 = pd.DataFrame(elbow_data2)

# Create a DataFrame with the data to plot the Elbow curve
df_elbow2.head()


# Plot a line chart with all the inertia values computed with 
# the different values of k to visually identify the optimal value for k.
df_elbow2.hvplot.line(
    x="k",
    y="inertia",
    title="Elbow Curve 2",
    xticks=k
)








# Initialize the K-Means model using the best value for k
model2 = KMeans(n_clusters=3, random_state=0)



# Fit the K-Means model using the PCA data
model2.fit(market_pca_df)



# Predict the clusters to group the cryptocurrencies using the PCA data
k_3 = model2.predict(market_pca_df)

# Print the resulting array of cluster values.
print(k_3)


# Create a copy of the DataFrame with the PCA data
market_pca_predictions_df = market_pca_df.copy()

# Add a new column to the DataFrame with the predicted clusters
market_pca_predictions_df["hover_cols"] = k_3

# Display sample data
market_pca_predictions_df.head()


# Create a scatter plot using hvPlot by setting 
# `x="PC1"` and `y="PC2"`. 
# Color the graph points with the labels found using K-Means and 
# add the crypto name in the `hover_cols` parameter to identify 
# the cryptocurrency represented by each data point.
market_pca_predictions_df.hvplot.scatter(
    x="PC1",
    y="PC2",
    by="coin_id"
)





# Composite plot to contrast the Elbow curves
composite_plot = df_elbow + df_elbow2


# Composite plot to contrast the clusters
composite_plot



